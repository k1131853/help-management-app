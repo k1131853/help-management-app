{
 "cells": [
  {
   "cell_type": "code",
   "execution_count": 1,
   "metadata": {},
   "outputs": [],
   "source": [
    "import json"
   ]
  },
  {
   "cell_type": "code",
   "execution_count": 4,
   "metadata": {},
   "outputs": [
    {
     "ename": "AttributeError",
     "evalue": "module 'json' has no attribute 'read'",
     "output_type": "error",
     "traceback": [
      "\u001b[1;31m---------------------------------------------------------------------------\u001b[0m",
      "\u001b[1;31mAttributeError\u001b[0m                            Traceback (most recent call last)",
      "Input \u001b[1;32mIn [4]\u001b[0m, in \u001b[0;36m<cell line: 1>\u001b[1;34m()\u001b[0m\n\u001b[1;32m----> 1\u001b[0m a \u001b[38;5;241m=\u001b[39m \u001b[43mjson\u001b[49m\u001b[38;5;241;43m.\u001b[39;49m\u001b[43mread\u001b[49m(\u001b[38;5;124m\"\u001b[39m\u001b[38;5;124mseacret_2.json\u001b[39m\u001b[38;5;124m\"\u001b[39m)\n\u001b[0;32m      2\u001b[0m a\n",
      "\u001b[1;31mAttributeError\u001b[0m: module 'json' has no attribute 'read'"
     ]
    }
   ],
   "source": [
    "a = json.read(\"seacret_2.json\")\n",
    "a"
   ]
  },
  {
   "cell_type": "code",
   "execution_count": 9,
   "metadata": {},
   "outputs": [
    {
     "name": "stdout",
     "output_type": "stream",
     "text": [
      "1GEMwjemjrWOLgM8zWW6IYxCHIMgExDNouFji-3mYf8Y\n"
     ]
    }
   ],
   "source": [
    "with open(\"seacret_2.json\") as f:\n",
    "    a = json.load(f)\n",
    "\n",
    "print(a[\"url\"])"
   ]
  },
  {
   "cell_type": "code",
   "execution_count": 120,
   "metadata": {},
   "outputs": [],
   "source": [
    "import streamlit as st\n",
    "from datetime import date\n",
    "import gspread\n",
    "import os\n",
    "import json\n",
    "\n",
    "gc = gspread.service_account(\n",
    "    filename=\"seacret.json\")\n",
    "with open(\"seacret_2.json\") as f:\n",
    "    url = json.load(f)\n",
    "sh = gc.open_by_key(url[\"url\"])"
   ]
  },
  {
   "cell_type": "code",
   "execution_count": 121,
   "metadata": {},
   "outputs": [],
   "source": [
    "#本日の日付を取得\n",
    "today = date.today()\n",
    "y_date = int(today.strftime(\"%Y\"))\n",
    "m_date = int(today.strftime(\"%m\"))"
   ]
  },
  {
   "cell_type": "code",
   "execution_count": 122,
   "metadata": {},
   "outputs": [],
   "source": [
    "import pandas as pd\n",
    "sh= sh.worksheet(\"集計表\")\n",
    "df = pd.DataFrame(sh.get_all_values())\n"
   ]
  },
  {
   "cell_type": "code",
   "execution_count": null,
   "metadata": {},
   "outputs": [],
   "source": []
  },
  {
   "cell_type": "code",
   "execution_count": null,
   "metadata": {},
   "outputs": [],
   "source": []
  },
  {
   "cell_type": "code",
   "execution_count": null,
   "metadata": {},
   "outputs": [],
   "source": []
  },
  {
   "cell_type": "code",
   "execution_count": null,
   "metadata": {},
   "outputs": [],
   "source": []
  },
  {
   "cell_type": "code",
   "execution_count": null,
   "metadata": {},
   "outputs": [],
   "source": []
  },
  {
   "cell_type": "code",
   "execution_count": 180,
   "metadata": {},
   "outputs": [],
   "source": [
    "def df_create(sh,today):\n",
    "    df = pd.DataFrame(sh.get_all_values())\n",
    "    df.columns = df.iloc[0]\n",
    "    df = df[1:]\n",
    "    df = df.loc[:,~df.columns.str.isdigit()]\n",
    "    df[\"日付\"] = pd.to_datetime(df[\"日付\"],format=\"%Y年%m月%d日\")\n",
    "    df.set_index(\"日付\",inplace=True)\n",
    "    y_date = int(today.strftime(\"%Y\"))\n",
    "    m_date = int(today.strftime(\"%m\"))\n",
    "    d_date = int(today.strftime(\"%d\"))\n",
    "    df = df[df.index.year == y_date]\n",
    "    df = df[df.index.month == m_date]\n",
    "    df = df.apply(pd.to_numeric) #数値に変換する\n",
    "    df = df.fillna(0)\n",
    "    mama_money = int(df[\"ママ金額\"].sum())\n",
    "    a_money =  int(df[\"あーちゃん金額\"].sum())\n",
    "    papa_money = int(df[\"パパ金額\"].sum())\n",
    "    today_df = df[df.index.day == d_date]\n",
    "    today_df = today_df.iloc[:,3:]\n",
    "    plot_df = df.iloc[:,:3]\n",
    "    return mama_money,a_money,papa_money,today_df,plot_df"
   ]
  },
  {
   "cell_type": "code",
   "execution_count": 181,
   "metadata": {},
   "outputs": [],
   "source": [
    "mama,a,papa,today_df,df = df_create(sh,today)"
   ]
  },
  {
   "cell_type": "code",
   "execution_count": 186,
   "metadata": {},
   "outputs": [
    {
     "data": {
      "text/html": [
       "<div>\n",
       "<style scoped>\n",
       "    .dataframe tbody tr th:only-of-type {\n",
       "        vertical-align: middle;\n",
       "    }\n",
       "\n",
       "    .dataframe tbody tr th {\n",
       "        vertical-align: top;\n",
       "    }\n",
       "\n",
       "    .dataframe thead th {\n",
       "        text-align: right;\n",
       "    }\n",
       "</style>\n",
       "<table border=\"1\" class=\"dataframe\">\n",
       "  <thead>\n",
       "    <tr style=\"text-align: right;\">\n",
       "      <th></th>\n",
       "      <th>ママ金額</th>\n",
       "      <th>あーちゃん金額</th>\n",
       "      <th>パパ金額</th>\n",
       "    </tr>\n",
       "    <tr>\n",
       "      <th>日付</th>\n",
       "      <th></th>\n",
       "      <th></th>\n",
       "      <th></th>\n",
       "    </tr>\n",
       "  </thead>\n",
       "  <tbody>\n",
       "    <tr>\n",
       "      <th>2025-01-05</th>\n",
       "      <td>561.0</td>\n",
       "      <td>0.0</td>\n",
       "      <td>0.0</td>\n",
       "    </tr>\n",
       "    <tr>\n",
       "      <th>2025-01-06</th>\n",
       "      <td>0.0</td>\n",
       "      <td>0.0</td>\n",
       "      <td>188.0</td>\n",
       "    </tr>\n",
       "  </tbody>\n",
       "</table>\n",
       "</div>"
      ],
      "text/plain": [
       "0            ママ金額  あーちゃん金額   パパ金額\n",
       "日付                               \n",
       "2025-01-05  561.0      0.0    0.0\n",
       "2025-01-06    0.0      0.0  188.0"
      ]
     },
     "execution_count": 186,
     "metadata": {},
     "output_type": "execute_result"
    }
   ],
   "source": [
    "df = df.fillna(0)\n",
    "df"
   ]
  },
  {
   "cell_type": "code",
   "execution_count": null,
   "metadata": {},
   "outputs": [],
   "source": []
  },
  {
   "cell_type": "code",
   "execution_count": 111,
   "metadata": {},
   "outputs": [
    {
     "data": {
      "text/plain": [
       "int"
      ]
     },
     "execution_count": 111,
     "metadata": {},
     "output_type": "execute_result"
    }
   ],
   "source": []
  },
  {
   "cell_type": "code",
   "execution_count": 175,
   "metadata": {},
   "outputs": [
    {
     "data": {
      "text/plain": [
       "661"
      ]
     },
     "execution_count": 175,
     "metadata": {},
     "output_type": "execute_result"
    }
   ],
   "source": []
  },
  {
   "cell_type": "code",
   "execution_count": null,
   "metadata": {},
   "outputs": [],
   "source": []
  }
 ],
 "metadata": {
  "kernelspec": {
   "display_name": "Python 3",
   "language": "python",
   "name": "python3"
  },
  "language_info": {
   "codemirror_mode": {
    "name": "ipython",
    "version": 3
   },
   "file_extension": ".py",
   "mimetype": "text/x-python",
   "name": "python",
   "nbconvert_exporter": "python",
   "pygments_lexer": "ipython3",
   "version": "3.10.11"
  }
 },
 "nbformat": 4,
 "nbformat_minor": 2
}
